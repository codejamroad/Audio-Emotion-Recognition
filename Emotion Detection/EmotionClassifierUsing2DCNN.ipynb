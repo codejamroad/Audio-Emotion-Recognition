{
  "nbformat": 4,
  "nbformat_minor": 0,
  "metadata": {
    "colab": {
      "name": "EmotionClassifierUsing2DCNN.ipynb",
      "provenance": [],
      "collapsed_sections": []
    },
    "kernelspec": {
      "name": "python3",
      "display_name": "Python 3"
    }
  },
  "cells": [
    {
      "cell_type": "code",
      "metadata": {
        "id": "hDjRQOP97E1C"
      },
      "source": [
        "import librosa\n",
        "import librosa.display\n",
        "import numpy as np\n",
        "import matplotlib.pyplot as plt\n",
        "import tensorflow as tf\n",
        "from matplotlib.pyplot import specgram\n",
        "import pandas as pd\n",
        "import glob \n",
        "from sklearn.metrics import confusion_matrix\n",
        "import IPython.display as ipd  # To play sound in the notebook\n",
        "import os\n",
        "import sys\n",
        "import warnings\n",
        "# ignore warnings \n",
        "if not sys.warnoptions:\n",
        "    warnings.simplefilter(\"ignore\")\n",
        "warnings.filterwarnings(\"ignore\", category=DeprecationWarning) \n",
        "# Keras\n",
        "import keras\n",
        "from keras import regularizers\n",
        "from keras.preprocessing import sequence\n",
        "from keras.preprocessing.text import Tokenizer\n",
        "from keras.preprocessing.sequence import pad_sequences\n",
        "from keras.models import Sequential, Model, model_from_json\n",
        "from keras.layers import Dense, Embedding, LSTM\n",
        "from keras.layers import Input, Flatten, Dropout, Activation, BatchNormalization\n",
        "from keras.layers import Conv1D, MaxPooling1D, AveragePooling1D\n",
        "from keras.utils import np_utils, to_categorical\n",
        "from keras.callbacks import (EarlyStopping, LearningRateScheduler,\n",
        "                             ModelCheckpoint, TensorBoard, ReduceLROnPlateau)\n",
        "from keras import losses, models, optimizers\n",
        "from keras.activations import relu, softmax\n",
        "from keras.layers import (Convolution2D, GlobalAveragePooling2D, BatchNormalization, Flatten, Dropout,\n",
        "                          GlobalMaxPool2D, MaxPool2D, concatenate, Activation, Input, Dense)\n",
        "\n",
        "# sklearn\n",
        "from sklearn.metrics import confusion_matrix, accuracy_score\n",
        "from sklearn.model_selection import train_test_split\n",
        "from sklearn.preprocessing import LabelEncoder\n",
        "\n",
        "# Other  \n",
        "from tqdm import tqdm, tqdm_pandas\n",
        "import scipy\n",
        "from scipy.stats import skew\n",
        "import librosa\n",
        "import librosa.display\n",
        "import json\n",
        "import numpy as np\n",
        "import matplotlib.pyplot as plt\n",
        "import tensorflow as tf\n",
        "from matplotlib.pyplot import specgram\n",
        "import pandas as pd\n",
        "import seaborn as sns\n",
        "import glob \n",
        "import os\n",
        "import sys\n",
        "import IPython.display as ipd  # To play sound in the notebook\n",
        "import warnings\n",
        "# ignore warnings \n",
        "if not sys.warnoptions:\n",
        "    warnings.simplefilter(\"ignore\")"
      ],
      "execution_count": null,
      "outputs": []
    },
    {
      "cell_type": "code",
      "metadata": {
        "id": "IMC9LvYDBnmR"
      },
      "source": [
        "TESS = \"/content/drive/My Drive/TESS Toronto emotional speech set data/TESS Toronto emotional speech set data/\"\n",
        "RAV = \"/content/drive/My Drive/audio_speech_actors_01-24/\"\n",
        "SAVEEJE = \"/content/drive/My Drive/AudioData/AudioData/JE/\"\n",
        "SAVEEDC = \"/content/drive/My Drive/AudioData/AudioData/DC/\"\n",
        "SAVEEJK = \"/content/drive/My Drive/AudioData/AudioData/JK/\"\n",
        "SAVEEKL = \"/content/drive/My Drive/AudioData/AudioData/KL/\"\n",
        "CREMA = \"/content/drive/My Drive/AudioWAV/\"\n",
        "\n"
      ],
      "execution_count": null,
      "outputs": []
    },
    {
      "cell_type": "code",
      "metadata": {
        "id": "9zc9V7tJCMhx",
        "outputId": "39ad67e6-525a-44bb-a4bf-d8b26d604804",
        "colab": {
          "base_uri": "https://localhost:8080/",
          "height": 153
        }
      },
      "source": [
        "# Run one example \n",
        "dir_list = os.listdir(SAVEEJE)\n",
        "dir_list[0:5]\n",
        "# parse the filename to get the emotions\n",
        "emotion=[]\n",
        "path = []\n",
        "for i in dir_list:\n",
        "    if i[-8:-6]=='a':\n",
        "        emotion.append('male_angry')\n",
        "    elif i[-8:-6]=='d':\n",
        "        emotion.append('male_disgust')\n",
        "    elif i[-8:-6]=='f':\n",
        "        emotion.append('male_fear')\n",
        "    elif i[-8:-6]=='h':\n",
        "        emotion.append('male_happy')\n",
        "    elif i[-8:-6]=='n':\n",
        "        emotion.append('male_neutral')\n",
        "    elif i[-8:-6]=='sa':\n",
        "        emotion.append('male_sad')\n",
        "    elif i[-8:-6]=='su':\n",
        "        emotion.append('male_surprise')\n",
        "    else:\n",
        "        emotion.append('male_error') \n",
        "    path.append(SAVEEJE + i)\n",
        "    \n",
        "# Now check out the label count distribution \n",
        "SAVEE_dfje = pd.DataFrame(emotion, columns = ['labels'])\n",
        "SAVEE_dfje['source'] = 'SAVEEJE'\n",
        "SAVEE_dfje = pd.concat([SAVEE_dfje, pd.DataFrame(path, columns = ['path'])], axis = 1)\n",
        "SAVEE_dfje.labels.value_counts()"
      ],
      "execution_count": null,
      "outputs": [
        {
          "output_type": "execute_result",
          "data": {
            "text/plain": [
              "male_neutral     30\n",
              "male_disgust     15\n",
              "male_fear        15\n",
              "male_sad         15\n",
              "male_surprise    15\n",
              "male_angry       15\n",
              "male_happy       15\n",
              "Name: labels, dtype: int64"
            ]
          },
          "metadata": {
            "tags": []
          },
          "execution_count": 67
        }
      ]
    },
    {
      "cell_type": "code",
      "metadata": {
        "id": "utukj70wd0V2",
        "outputId": "9eb59d4d-9a1b-4ddc-ff19-84cf7dddbd16",
        "colab": {
          "base_uri": "https://localhost:8080/",
          "height": 153
        }
      },
      "source": [
        "# parse the filename to get the emotions\n",
        "dir_list = os.listdir(SAVEEDC)\n",
        "emotion=[]\n",
        "path = []\n",
        "for i in dir_list:\n",
        "    if i[-8:-6]=='a':\n",
        "        emotion.append('male_angry')\n",
        "    elif i[-8:-6]=='d':\n",
        "        emotion.append('male_disgust')\n",
        "    elif i[-8:-6]=='f':\n",
        "        emotion.append('male_fear')\n",
        "    elif i[-8:-6]=='h':\n",
        "        emotion.append('male_happy')\n",
        "    elif i[-8:-6]=='n':\n",
        "        emotion.append('male_neutral')\n",
        "    elif i[-8:-6]=='sa':\n",
        "        emotion.append('male_sad')\n",
        "    elif i[-8:-6]=='su':\n",
        "        emotion.append('male_surprise')\n",
        "    else:\n",
        "        emotion.append('male_error') \n",
        "    path.append(SAVEEDC + i)\n",
        "    \n",
        "# Now check out the label count distribution \n",
        "SAVEE_dfdc = pd.DataFrame(emotion, columns = ['labels'])\n",
        "SAVEE_dfdc['source'] = 'SAVEEDC'\n",
        "SAVEE_dfdc = pd.concat([SAVEE_dfdc, pd.DataFrame(path, columns = ['path'])], axis = 1)\n",
        "SAVEE_dfdc.labels.value_counts()"
      ],
      "execution_count": null,
      "outputs": [
        {
          "output_type": "execute_result",
          "data": {
            "text/plain": [
              "male_neutral     30\n",
              "male_disgust     15\n",
              "male_fear        15\n",
              "male_sad         15\n",
              "male_surprise    15\n",
              "male_angry       15\n",
              "male_happy       15\n",
              "Name: labels, dtype: int64"
            ]
          },
          "metadata": {
            "tags": []
          },
          "execution_count": 68
        }
      ]
    },
    {
      "cell_type": "code",
      "metadata": {
        "id": "6zClaG5Yd0eL",
        "outputId": "be1c5653-7388-46fd-b616-205d01b3af68",
        "colab": {
          "base_uri": "https://localhost:8080/",
          "height": 153
        }
      },
      "source": [
        "# parse the filename to get the emotions\n",
        "dir_list = os.listdir(SAVEEJK)\n",
        "emotion=[]\n",
        "path = []\n",
        "for i in dir_list:\n",
        "    if i[-8:-6]=='a':\n",
        "        emotion.append('male_angry')\n",
        "    elif i[-8:-6]=='d':\n",
        "        emotion.append('male_disgust')\n",
        "    elif i[-8:-6]=='f':\n",
        "        emotion.append('male_fear')\n",
        "    elif i[-8:-6]=='h':\n",
        "        emotion.append('male_happy')\n",
        "    elif i[-8:-6]=='n':\n",
        "        emotion.append('male_neutral')\n",
        "    elif i[-8:-6]=='sa':\n",
        "        emotion.append('male_sad')\n",
        "    elif i[-8:-6]=='su':\n",
        "        emotion.append('male_surprise')\n",
        "    else:\n",
        "        emotion.append('male_error') \n",
        "    path.append(SAVEEJK + i)\n",
        "    \n",
        "# Now check out the label count distribution \n",
        "SAVEE_dfjk = pd.DataFrame(emotion, columns = ['labels'])\n",
        "SAVEE_dfjk['source'] = 'SAVEEJK'\n",
        "SAVEE_dfjk = pd.concat([SAVEE_dfjk, pd.DataFrame(path, columns = ['path'])], axis = 1)\n",
        "SAVEE_dfjk.labels.value_counts()"
      ],
      "execution_count": null,
      "outputs": [
        {
          "output_type": "execute_result",
          "data": {
            "text/plain": [
              "male_neutral     30\n",
              "male_disgust     15\n",
              "male_fear        15\n",
              "male_sad         15\n",
              "male_surprise    15\n",
              "male_angry       15\n",
              "male_happy       15\n",
              "Name: labels, dtype: int64"
            ]
          },
          "metadata": {
            "tags": []
          },
          "execution_count": 69
        }
      ]
    },
    {
      "cell_type": "code",
      "metadata": {
        "id": "dhJiy6Fod0to",
        "outputId": "b0472499-0eb1-43da-8ab5-a546af1be69a",
        "colab": {
          "base_uri": "https://localhost:8080/",
          "height": 153
        }
      },
      "source": [
        "# parse the filename to get the emotions\n",
        "dir_list = os.listdir(SAVEEKL)\n",
        "emotion=[]\n",
        "path = []\n",
        "for i in dir_list:\n",
        "    if i[-8:-6]=='a':\n",
        "        emotion.append('male_angry')\n",
        "    elif i[-8:-6]=='d':\n",
        "        emotion.append('male_disgust')\n",
        "    elif i[-8:-6]=='f':\n",
        "        emotion.append('male_fear')\n",
        "    elif i[-8:-6]=='h':\n",
        "        emotion.append('male_happy')\n",
        "    elif i[-8:-6]=='n':\n",
        "        emotion.append('male_neutral')\n",
        "    elif i[-8:-6]=='sa':\n",
        "        emotion.append('male_sad')\n",
        "    elif i[-8:-6]=='su':\n",
        "        emotion.append('male_surprise')\n",
        "    else:\n",
        "        emotion.append('male_error') \n",
        "    path.append(SAVEEKL + i)\n",
        "    \n",
        "# Now check out the label count distribution \n",
        "SAVEE_dfkl = pd.DataFrame(emotion, columns = ['labels'])\n",
        "SAVEE_dfkl['source'] = 'SAVEEKL'\n",
        "SAVEE_dfkl = pd.concat([SAVEE_dfkl, pd.DataFrame(path, columns = ['path'])], axis = 1)\n",
        "SAVEE_dfkl.labels.value_counts()"
      ],
      "execution_count": null,
      "outputs": [
        {
          "output_type": "execute_result",
          "data": {
            "text/plain": [
              "male_neutral     30\n",
              "male_disgust     15\n",
              "male_fear        15\n",
              "male_sad         15\n",
              "male_surprise    15\n",
              "male_angry       15\n",
              "male_happy       15\n",
              "Name: labels, dtype: int64"
            ]
          },
          "metadata": {
            "tags": []
          },
          "execution_count": 70
        }
      ]
    },
    {
      "cell_type": "code",
      "metadata": {
        "id": "Ad_P6zpPCMkG",
        "outputId": "3670dbd7-b360-48dc-c6c1-c5132a089024",
        "colab": {
          "base_uri": "https://localhost:8080/",
          "height": 272
        }
      },
      "source": [
        "dir_list = os.listdir(RAV)\n",
        "dir_list.sort()\n",
        "\n",
        "emotion = []\n",
        "gender = []\n",
        "path = []\n",
        "for i in dir_list:\n",
        "    fname = os.listdir(RAV + i)\n",
        "    for f in fname:\n",
        "        part = f.split('.')[0].split('-')\n",
        "        emotion.append(int(part[2]))\n",
        "        temp = int(part[6])\n",
        "        if temp%2 == 0:\n",
        "            temp = \"female\"\n",
        "        else:\n",
        "            temp = \"male\"\n",
        "        gender.append(temp)\n",
        "        path.append(RAV + i + '/' + f)\n",
        "\n",
        "        \n",
        "RAV_df = pd.DataFrame(emotion)\n",
        "RAV_df = RAV_df.replace({1:'neutral', 2:'neutral', 3:'happy', 4:'sad', 5:'angry', 6:'fear', 7:'disgust', 8:'surprise'})\n",
        "RAV_df = pd.concat([pd.DataFrame(gender),RAV_df],axis=1)\n",
        "RAV_df.columns = ['gender','emotion']\n",
        "RAV_df['labels'] =RAV_df.gender + '_' + RAV_df.emotion\n",
        "RAV_df['source'] = 'RAVDESS'  \n",
        "RAV_df = pd.concat([RAV_df,pd.DataFrame(path, columns = ['path'])],axis=1)\n",
        "RAV_df = RAV_df.drop(['gender', 'emotion'], axis=1)\n",
        "RAV_df.labels.value_counts()"
      ],
      "execution_count": null,
      "outputs": [
        {
          "output_type": "execute_result",
          "data": {
            "text/plain": [
              "female_neutral     144\n",
              "male_neutral       144\n",
              "female_disgust      96\n",
              "male_fear           96\n",
              "female_angry        96\n",
              "male_disgust        96\n",
              "male_angry          96\n",
              "female_happy        96\n",
              "male_surprise       96\n",
              "male_happy          96\n",
              "female_sad          96\n",
              "female_fear         96\n",
              "male_sad            96\n",
              "female_surprise     96\n",
              "Name: labels, dtype: int64"
            ]
          },
          "metadata": {
            "tags": []
          },
          "execution_count": 71
        }
      ]
    },
    {
      "cell_type": "code",
      "metadata": {
        "id": "CiIQtVWwDNG_",
        "outputId": "bd9a21e0-aeb9-4d6e-966c-3a79184064ed",
        "colab": {
          "base_uri": "https://localhost:8080/",
          "height": 153
        }
      },
      "source": [
        "dir_list = os.listdir(TESS)\n",
        "dir_list.sort()\n",
        "dir_list\n",
        "path = []\n",
        "emotion = []\n",
        "\n",
        "for i in dir_list:\n",
        "    fname = os.listdir(TESS + i)\n",
        "    for f in fname:\n",
        "        if i == 'OAF_angry' or i == 'YAF_angry':\n",
        "            emotion.append('female_angry')\n",
        "        elif i == 'OAF_disgust' or i == 'YAF_disgust':\n",
        "            emotion.append('female_disgust')\n",
        "        elif i == 'OAF_Fear' or i == 'YAF_fear':\n",
        "            emotion.append('female_fear')\n",
        "        elif i == 'OAF_happy' or i == 'YAF_happy':\n",
        "            emotion.append('female_happy')\n",
        "        elif i == 'OAF_neutral' or i == 'YAF_neutral':\n",
        "            emotion.append('female_neutral')                                \n",
        "        elif i == 'OAF_Pleasant_surprise' or i == 'YAF_pleasant_surprised':\n",
        "            emotion.append('female_surprise')               \n",
        "        elif i == 'OAF_Sad' or i == 'YAF_sad':\n",
        "            emotion.append('female_sad')\n",
        "        else:\n",
        "            emotion.append('Unknown')\n",
        "        path.append(TESS + i + \"/\" + f)\n",
        "\n",
        "TESS_df = pd.DataFrame(emotion, columns = ['labels'])\n",
        "TESS_df['source'] = 'TESS'\n",
        "TESS_df = pd.concat([TESS_df,pd.DataFrame(path, columns = ['path'])],axis=1)\n",
        "TESS_df.labels.value_counts()"
      ],
      "execution_count": null,
      "outputs": [
        {
          "output_type": "execute_result",
          "data": {
            "text/plain": [
              "female_disgust     400\n",
              "female_happy       400\n",
              "female_neutral     400\n",
              "female_angry       400\n",
              "female_sad         400\n",
              "female_fear        400\n",
              "female_surprise    400\n",
              "Name: labels, dtype: int64"
            ]
          },
          "metadata": {
            "tags": []
          },
          "execution_count": 72
        }
      ]
    },
    {
      "cell_type": "code",
      "metadata": {
        "id": "jFl3LhV7fmx3",
        "outputId": "2839817f-1a4a-4410-f3bb-4eb2e10d91a4",
        "colab": {
          "base_uri": "https://localhost:8080/",
          "height": 238
        }
      },
      "source": [
        "dir_list = os.listdir(CREMA)\n",
        "gender = []\n",
        "emotion = []\n",
        "path = []\n",
        "female = [1002,1003,1004,1006,1007,1008,1009,1010,1012,1013,1018,1020,1021,1024,1025,1028,1029,1030,1037,1043,1046,1047,1049,\n",
        "          1052,1053,1054,1055,1056,1058,1060,1061,1063,1072,1073,1074,1075,1076,1078,1079,1082,1084,1089,1091]\n",
        "\n",
        "for i in dir_list: \n",
        "    part = i.split('_')\n",
        "    if int(part[0]) in female:\n",
        "        temp = 'female'\n",
        "    else:\n",
        "        temp = 'male'\n",
        "    gender.append(temp)\n",
        "    if part[2] == 'SAD' and temp == 'male':\n",
        "        emotion.append('male_sad')\n",
        "    elif part[2] == 'ANG' and temp == 'male':\n",
        "        emotion.append('male_angry')\n",
        "    elif part[2] == 'DIS' and temp == 'male':\n",
        "        emotion.append('male_disgust')\n",
        "    elif part[2] == 'FEA' and temp == 'male':\n",
        "        emotion.append('male_fear')\n",
        "    elif part[2] == 'HAP' and temp == 'male':\n",
        "        emotion.append('male_happy')\n",
        "    elif part[2] == 'NEU' and temp == 'male':\n",
        "        emotion.append('male_neutral')\n",
        "    elif part[2] == 'SAD' and temp == 'female':\n",
        "        emotion.append('female_sad')\n",
        "    elif part[2] == 'ANG' and temp == 'female':\n",
        "        emotion.append('female_angry')\n",
        "    elif part[2] == 'DIS' and temp == 'female':\n",
        "        emotion.append('female_disgust')\n",
        "    elif part[2] == 'FEA' and temp == 'female':\n",
        "        emotion.append('female_fear')\n",
        "    elif part[2] == 'HAP' and temp == 'female':\n",
        "        emotion.append('female_happy')\n",
        "    elif part[2] == 'NEU' and temp == 'female':\n",
        "        emotion.append('female_neutral')\n",
        "    else:\n",
        "        emotion.append('Unknown')\n",
        "    path.append(CREMA + i)\n",
        "    \n",
        "CREMA_df = pd.DataFrame(emotion, columns = ['labels'])\n",
        "CREMA_df['source'] = 'CREMA'\n",
        "CREMA_df = pd.concat([CREMA_df,pd.DataFrame(path, columns = ['path'])],axis=1)\n",
        "CREMA_df.labels.value_counts()\n"
      ],
      "execution_count": null,
      "outputs": [
        {
          "output_type": "execute_result",
          "data": {
            "text/plain": [
              "male_happy        671\n",
              "male_sad          671\n",
              "male_disgust      671\n",
              "male_fear         671\n",
              "male_angry        671\n",
              "female_happy      600\n",
              "female_sad        600\n",
              "female_fear       600\n",
              "female_disgust    600\n",
              "female_angry      600\n",
              "male_neutral      575\n",
              "female_neutral    512\n",
              "Name: labels, dtype: int64"
            ]
          },
          "metadata": {
            "tags": []
          },
          "execution_count": 73
        }
      ]
    },
    {
      "cell_type": "code",
      "metadata": {
        "id": "y3e4h88MDNEw",
        "outputId": "0183b894-165c-4edc-9879-eab139a0b8f8",
        "colab": {
          "base_uri": "https://localhost:8080/",
          "height": 272
        }
      },
      "source": [
        "df = pd.concat([SAVEE_dfje,SAVEE_dfdc,SAVEE_dfjk,SAVEE_dfkl, RAV_df, TESS_df, CREMA_df], axis = 0)\n",
        "print(df.labels.value_counts())\n",
        "df.head()\n",
        "df.to_csv(\"Data_path.csv\",index=False)"
      ],
      "execution_count": null,
      "outputs": [
        {
          "output_type": "stream",
          "text": [
            "female_disgust     1096\n",
            "female_angry       1096\n",
            "female_happy       1096\n",
            "female_sad         1096\n",
            "female_fear        1096\n",
            "female_neutral     1056\n",
            "male_neutral        839\n",
            "male_disgust        827\n",
            "male_fear           827\n",
            "male_happy          827\n",
            "male_sad            827\n",
            "male_angry          827\n",
            "female_surprise     496\n",
            "male_surprise       156\n",
            "Name: labels, dtype: int64\n"
          ],
          "name": "stdout"
        }
      ]
    },
    {
      "cell_type": "code",
      "metadata": {
        "id": "kMltgMQn7Wzx"
      },
      "source": [
        "'''\n",
        "1. Data Augmentation method   \n",
        "'''\n",
        "def speedNpitch(data):\n",
        "    \"\"\"\n",
        "    Speed and Pitch Tuning.\n",
        "    \"\"\"\n",
        "    # you can change low and high here\n",
        "    length_change = np.random.uniform(low=0.8, high = 1)\n",
        "    speed_fac = 1.2  / length_change # try changing 1.0 to 2.0 ... =D\n",
        "    tmp = np.interp(np.arange(0,len(data),speed_fac),np.arange(0,len(data)),data)\n",
        "    minlen = min(data.shape[0], tmp.shape[0])\n",
        "    data *= 0\n",
        "    data[0:minlen] = tmp[0:minlen]\n",
        "    return data\n",
        "\n",
        "'''\n",
        "2. Extracting the MFCC feature as an image (Matrix format).  \n",
        "'''\n",
        "def prepare_data(df, n, aug, mfcc):\n",
        "    X = np.empty(shape=(df.shape[0], n, 216, 1))\n",
        "    input_length = sampling_rate * audio_duration\n",
        "    \n",
        "    cnt = 0\n",
        "    for fname in tqdm(df.path):\n",
        "        file_path = fname\n",
        "        data, _ = librosa.load(file_path, sr=sampling_rate\n",
        "                               ,res_type=\"kaiser_fast\"\n",
        "                               ,duration=2.5\n",
        "                               ,offset=0.5\n",
        "                              )\n",
        "\n",
        "        # Random offset / Padding\n",
        "        if len(data) > input_length:\n",
        "            max_offset = len(data) - input_length\n",
        "            offset = np.random.randint(max_offset)\n",
        "            data = data[offset:(input_length+offset)]\n",
        "        else:\n",
        "            if input_length > len(data):\n",
        "                max_offset = input_length - len(data)\n",
        "                offset = np.random.randint(max_offset)\n",
        "            else:\n",
        "                offset = 0\n",
        "            data = np.pad(data, (offset, int(input_length) - len(data) - offset), \"constant\")\n",
        "\n",
        "        # Augmentation? \n",
        "        # if aug == 1:\n",
        "        #     data = speedNpitch(data)\n",
        "        \n",
        "        # which feature?\n",
        "        if mfcc == 1:\n",
        "            # MFCC extraction \n",
        "            MFCC = librosa.feature.mfcc(data, sr=sampling_rate, n_mfcc=40)\n",
        "            MFCC = np.expand_dims(MFCC, axis=-1)\n",
        "            X[cnt,] = MFCC\n",
        "            \n",
        "        else:\n",
        "            # Log-melspectogram\n",
        "            melspec = librosa.feature.melspectrogram(data, n_mels = n_melspec)   \n",
        "            logspec = librosa.amplitude_to_db(melspec)\n",
        "            logspec = np.expand_dims(logspec, axis=-1)\n",
        "            X[cnt,] = logspec\n",
        "            \n",
        "        cnt += 1\n",
        "    \n",
        "    return X\n",
        "\n",
        "\n",
        "'''\n",
        "3. Confusion matrix plot \n",
        "'''        \n",
        "def print_confusion_matrix(confusion_matrix, class_names, figsize = (10,7), fontsize=14):\n",
        "    '''Prints a confusion matrix, as returned by sklearn.metrics.confusion_matrix, as a heatmap.\n",
        "\n",
        "    Arguments\n",
        "    ---------\n",
        "    confusion_matrix: numpy.ndarray\n",
        "        The numpy.ndarray object returned from a call to sklearn.metrics.confusion_matrix. \n",
        "        Similarly constructed ndarrays can also be used.\n",
        "    class_names: list\n",
        "        An ordered list of class names, in the order they index the given confusion matrix.\n",
        "    figsize: tuple\n",
        "        A 2-long tuple, the first value determining the horizontal size of the ouputted figure,\n",
        "        the second determining the vertical size. Defaults to (10,7).\n",
        "    fontsize: int\n",
        "        Font size for axes labels. Defaults to 14.\n",
        "\n",
        "    Returns\n",
        "    -------\n",
        "    matplotlib.figure.Figure\n",
        "        The resulting confusion matrix figure\n",
        "    '''\n",
        "    df_cm = pd.DataFrame(\n",
        "        confusion_matrix, index=class_names, columns=class_names, \n",
        "    )\n",
        "    fig = plt.figure(figsize=figsize)\n",
        "    try:\n",
        "        heatmap = sns.heatmap(df_cm, annot=True, fmt=\"d\")\n",
        "    except ValueError:\n",
        "        raise ValueError(\"Confusion matrix values must be integers.\")\n",
        "\n",
        "    heatmap.yaxis.set_ticklabels(heatmap.yaxis.get_ticklabels(), rotation=0, ha='right', fontsize=fontsize)\n",
        "    heatmap.xaxis.set_ticklabels(heatmap.xaxis.get_ticklabels(), rotation=45, ha='right', fontsize=fontsize)\n",
        "    plt.ylabel('True label')\n",
        "    plt.xlabel('Predicted label')\n",
        "\n",
        "    \n",
        "    \n",
        "'''\n",
        "# 4. Create the 2D CNN model \n",
        "'''\n",
        "def get_2d_conv_model(n):\n",
        "    ''' Create a standard deep 2D convolutional neural network'''\n",
        "    nclass = 14\n",
        "    inp = Input(shape=(n,216,1))  #2D matrix of 30 MFCC bands by 216 audio length.\n",
        "    x = Convolution2D(32, (4,10), padding=\"same\")(inp)\n",
        "    x = BatchNormalization()(x)\n",
        "    x = Activation(\"relu\")(x)\n",
        "    x = MaxPool2D()(x)\n",
        "    x = Dropout(rate=0.2)(x)\n",
        "    \n",
        "    x = Convolution2D(32, (4,10), padding=\"same\")(x)\n",
        "    x = BatchNormalization()(x)\n",
        "    x = Activation(\"relu\")(x)\n",
        "    x = MaxPool2D()(x)\n",
        "    x = Dropout(rate=0.2)(x)\n",
        "    \n",
        "    x = Convolution2D(32, (4,10), padding=\"same\")(x)\n",
        "    x = BatchNormalization()(x)\n",
        "    x = Activation(\"relu\")(x)\n",
        "    x = MaxPool2D()(x)\n",
        "    x = Dropout(rate=0.2)(x)\n",
        "    \n",
        "    x = Convolution2D(32, (4,10), padding=\"same\")(x)\n",
        "    x = BatchNormalization()(x)\n",
        "    x = Activation(\"relu\")(x)\n",
        "    x = MaxPool2D()(x)\n",
        "    x = Dropout(rate=0.2)(x)\n",
        "    \n",
        "    x = Flatten()(x)\n",
        "    x = Dense(64)(x)\n",
        "    x = Dropout(rate=0.2)(x)\n",
        "    x = BatchNormalization()(x)\n",
        "    x = Activation(\"relu\")(x)\n",
        "    x = Dropout(rate=0.2)(x)\n",
        "    \n",
        "    out = Dense(nclass, activation=softmax)(x)\n",
        "    model = models.Model(inputs=inp, outputs=out)\n",
        "    \n",
        "    opt = optimizers.Adam(0.001)\n",
        "    #model.compile(optimizer=SGD(lr=0.001, decay=1e-6, momentum=0.8), loss='categorical_crossentropy', metrics=['accuracy'])\n",
        "    model.compile(optimizer=opt, loss=losses.categorical_crossentropy, metrics=['acc'])\n",
        "    return model\n",
        "\n",
        "'''\n",
        "# 5. Other functions \n",
        "'''\n",
        "class get_results:\n",
        "    '''\n",
        "    We're going to create a class (blueprint template) for generating the results based on the various model approaches. \n",
        "    So instead of repeating the functions each time, we assign the results into on object with its associated variables \n",
        "    depending on each combination:\n",
        "        1) MFCC with no augmentation  \n",
        "        2) MFCC with augmentation \n",
        "        3) Logmelspec with no augmentation \n",
        "        4) Logmelspec with augmentation\n",
        "    '''\n",
        "    \n",
        "    def __init__(self, model_history, model ,X_test, y_test, labels):\n",
        "        self.model_history = model_history\n",
        "        self.model = model\n",
        "        self.X_test = X_test\n",
        "        self.y_test = y_test             \n",
        "        self.labels = labels\n",
        "\n",
        "    def create_plot(self, model_history):\n",
        "        '''Check the logloss of both train and validation, make sure they are close and have plateau'''\n",
        "        plt.plot(model_history.history['loss'])\n",
        "        plt.plot(model_history.history['val_loss'])\n",
        "        plt.title('model loss')\n",
        "        plt.ylabel('loss')\n",
        "        plt.xlabel('epoch')\n",
        "        plt.legend(['train', 'test'], loc='upper left')\n",
        "        plt.show()\n",
        "\n",
        "    def create_results(self, model):\n",
        "        '''predict on test set and get accuracy results'''\n",
        "        opt = optimizers.Adam(0.001)\n",
        "        model.compile(loss='categorical_crossentropy', optimizer=opt, metrics=['accuracy'])\n",
        "        score = model.evaluate(X_test, y_test, verbose=0)\n",
        "        print(\"%s: %.2f%%\" % (model.metrics_names[1], score[1]*100))\n",
        "\n",
        "    def confusion_results(self, X_test, y_test, labels, model):\n",
        "        '''plot confusion matrix results'''\n",
        "        preds = model.predict(X_test, \n",
        "                                 batch_size=16, \n",
        "                                 verbose=2)\n",
        "        preds=preds.argmax(axis=1)\n",
        "        preds = preds.astype(int).flatten()\n",
        "        preds = (lb.inverse_transform((preds)))\n",
        "\n",
        "        actual = y_test.argmax(axis=1)\n",
        "        actual = actual.astype(int).flatten()\n",
        "        actual = (lb.inverse_transform((actual)))\n",
        "\n",
        "        classes = labels\n",
        "        classes.sort()    \n",
        "\n",
        "        c = confusion_matrix(actual, preds)\n",
        "        print_confusion_matrix(c, class_names = classes)\n",
        "    \n",
        "    def accuracy_results_gender(self, X_test, y_test, labels, model):\n",
        "        '''Print out the accuracy score and confusion matrix heat map of the Gender classification results'''\n",
        "    \n",
        "        preds = model.predict(X_test, \n",
        "                         batch_size=16, \n",
        "                         verbose=2)\n",
        "        preds=preds.argmax(axis=1)\n",
        "        preds = preds.astype(int).flatten()\n",
        "        preds = (lb.inverse_transform((preds)))\n",
        "\n",
        "        actual = y_test.argmax(axis=1)\n",
        "        actual = actual.astype(int).flatten()\n",
        "        actual = (lb.inverse_transform((actual)))\n",
        "        \n",
        "        # print(accuracy_score(actual, preds))\n",
        "        \n",
        "        actual = pd.DataFrame(actual).replace({'female_angry':'female'\n",
        "                   , 'female_disgust':'female'\n",
        "                   , 'female_fear':'female'\n",
        "                   , 'female_happy':'female'\n",
        "                   , 'female_sad':'female'\n",
        "                   , 'female_surprise':'female'\n",
        "                   , 'female_neutral':'female'\n",
        "                   , 'male_angry':'male'\n",
        "                   , 'male_fear':'male'\n",
        "                   , 'male_happy':'male'\n",
        "                   , 'male_sad':'male'\n",
        "                   , 'male_surprise':'male'\n",
        "                   , 'male_neutral':'male'\n",
        "                   , 'male_disgust':'male'\n",
        "                  })\n",
        "        preds = pd.DataFrame(preds).replace({'female_angry':'female'\n",
        "               , 'female_disgust':'female'\n",
        "               , 'female_fear':'female'\n",
        "               , 'female_happy':'female'\n",
        "               , 'female_sad':'female'\n",
        "               , 'female_surprise':'female'\n",
        "               , 'female_neutral':'female'\n",
        "               , 'male_angry':'male'\n",
        "               , 'male_fear':'male'\n",
        "               , 'male_happy':'male'\n",
        "               , 'male_sad':'male'\n",
        "               , 'male_surprise':'male'\n",
        "               , 'male_neutral':'male'\n",
        "               , 'male_disgust':'male'\n",
        "              })\n",
        "\n",
        "        classes = actual.loc[:,0].unique() \n",
        "        classes.sort()    \n",
        "\n",
        "        c = confusion_matrix(actual, preds)\n",
        "        print(accuracy_score(actual, preds))\n",
        "        print_confusion_matrix(c, class_names = classes)\n"
      ],
      "execution_count": null,
      "outputs": []
    },
    {
      "cell_type": "code",
      "metadata": {
        "id": "QA5ZXNh27W2k",
        "outputId": "481ed5f8-1324-4a1c-d901-7d3554a38bfb",
        "colab": {
          "base_uri": "https://localhost:8080/",
          "height": 180
        }
      },
      "source": [
        "ref = pd.read_csv(\"Data_path.csv\")\n",
        "ref.head()"
      ],
      "execution_count": null,
      "outputs": [
        {
          "output_type": "error",
          "ename": "NameError",
          "evalue": "ignored",
          "traceback": [
            "\u001b[0;31m---------------------------------------------------------------------------\u001b[0m",
            "\u001b[0;31mNameError\u001b[0m                                 Traceback (most recent call last)",
            "\u001b[0;32m<ipython-input-3-9b8359718c69>\u001b[0m in \u001b[0;36m<module>\u001b[0;34m()\u001b[0m\n\u001b[0;32m----> 1\u001b[0;31m \u001b[0mref\u001b[0m \u001b[0;34m=\u001b[0m \u001b[0mpd\u001b[0m\u001b[0;34m.\u001b[0m\u001b[0mread_csv\u001b[0m\u001b[0;34m(\u001b[0m\u001b[0;34m\"Data_path.csv\"\u001b[0m\u001b[0;34m)\u001b[0m\u001b[0;34m\u001b[0m\u001b[0;34m\u001b[0m\u001b[0m\n\u001b[0m\u001b[1;32m      2\u001b[0m \u001b[0mref\u001b[0m\u001b[0;34m.\u001b[0m\u001b[0mhead\u001b[0m\u001b[0;34m(\u001b[0m\u001b[0;34m)\u001b[0m\u001b[0;34m\u001b[0m\u001b[0;34m\u001b[0m\u001b[0m\n",
            "\u001b[0;31mNameError\u001b[0m: name 'pd' is not defined"
          ]
        }
      ]
    },
    {
      "cell_type": "code",
      "metadata": {
        "id": "2b-IDbnX7W5f"
      },
      "source": [
        ""
      ],
      "execution_count": null,
      "outputs": []
    },
    {
      "cell_type": "code",
      "metadata": {
        "trusted": true,
        "id": "qGMrNC4U4tRG"
      },
      "source": [
        "def noisy_signal(signal, snr_low=15, snr_high=30, nb_augmented=2):\n",
        "    \n",
        "    # Signal length\n",
        "    signal_len = len(signal)\n",
        "\n",
        "    # Generate White noise\n",
        "    noise = np.random.normal(size=(nb_augmented, signal_len))\n",
        "    \n",
        "    # Compute signal and noise power\n",
        "    s_power = np.sum((signal / (2.0 ** 15)) ** 2) / signal_len\n",
        "    n_power = np.sum((noise / (2.0 ** 15)) ** 2, axis=1) / signal_len\n",
        "    \n",
        "    # Random SNR: Uniform [15, 30]\n",
        "    snr = np.random.randint(snr_low, snr_high)\n",
        "    \n",
        "    # Compute K coeff for each noise\n",
        "    K = np.sqrt((s_power / n_power) * 10 ** (- snr / 10))\n",
        "    K = np.ones((signal_len, nb_augmented)) * K\n",
        "    \n",
        "    # Generate noisy signal\n",
        "    return signal + K.T * noise"
      ],
      "execution_count": null,
      "outputs": []
    },
    {
      "cell_type": "code",
      "metadata": {
        "id": "6XC5wQTpKx1T",
        "outputId": "15f0a573-14d5-456e-8664-b6bf85af9b31",
        "colab": {
          "base_uri": "https://localhost:8080/",
          "height": 34
        }
      },
      "source": [
        "sampling_rate=44100\n",
        "audio_duration=2.5\n",
        "n_melspec = 40\n",
        "aug_specgram = prepare_data(ref,  n = n_melspec, aug = 1, mfcc = 1)"
      ],
      "execution_count": null,
      "outputs": [
        {
          "output_type": "stream",
          "text": [
            "100%|██████████| 12162/12162 [50:20<00:00,  4.03it/s]\n"
          ],
          "name": "stderr"
        }
      ]
    },
    {
      "cell_type": "code",
      "metadata": {
        "id": "DCNsK0h_7W8N",
        "outputId": "ab83e0e7-b59b-47cc-97aa-24e3530af94e",
        "colab": {
          "base_uri": "https://localhost:8080/",
          "height": 231
        }
      },
      "source": [
        "# Split between train and test \n",
        "X_train, X_test, y_train, y_test = train_test_split(aug_specgram\n",
        "                                                    , ref.labels\n",
        "                                                    , test_size=0.25\n",
        "                                                    , shuffle=True\n",
        "                                                    , random_state=42\n",
        "                                                   )\n",
        "\n",
        "\n",
        "\n",
        "# one hot encode the target \n",
        "lb = LabelEncoder()\n",
        "#X_train = speedNpitch(X_train)\n",
        "y_train = np_utils.to_categorical(lb.fit_transform(y_train))\n",
        "y_test = np_utils.to_categorical(lb.fit_transform(y_test))\n",
        "\n",
        "# Normalization as per the standard NN process\n",
        "# mean = np.mean(X_train, axis=0)\n",
        "# std = np.std(X_train, axis=0)\n",
        "\n",
        "# X_train = (X_train - mean)/std\n",
        "# X_test = (X_test - mean)/std\n",
        "from sklearn.preprocessing import StandardScaler\n",
        "def fit_X_scaler(X_train):\n",
        "    \"\"\"fit StandardScaler，and return StandardScaler object\n",
        "    \"\"\"\n",
        "    sc = StandardScaler()\n",
        "    for _, clips in enumerate(X_train):\n",
        "        data_i_truncated = np.squeeze(clips)\n",
        "        sc.partial_fit(data_i_truncated)\n",
        "    return sc\n",
        "\n",
        "def get_X_scaled(X_train, scaler=None):\n",
        "    \"\"\"apply normlization\n",
        "    \"\"\"\n",
        "    X_train_new = np.zeros(X_train.shape)\n",
        "    for indx, clips in enumerate(X_train):\n",
        "        data_i_truncated = np.squeeze(clips)\n",
        "        if scaler is not None:  # normlize\n",
        "            data_i_truncated = scaler.transform(data_i_truncated)\n",
        "        X_train[indx, :, :, 0] = data_i_truncated\n",
        "    return X_train\n",
        "\n",
        "sc = fit_X_scaler(X_train)\n",
        "X_train = get_X_scaled(X_train, sc)\n",
        "X_test = get_X_scaled(X_test, sc)\n",
        "\n",
        "# Build CNN model \n",
        "model = get_2d_conv_model(n=n_melspec)\n",
        "model_history = model.fit(X_train, y_train, validation_data=(X_test, y_test), \n",
        "                    batch_size=16, verbose = 2, epochs=30)"
      ],
      "execution_count": null,
      "outputs": [
        {
          "output_type": "error",
          "ename": "NameError",
          "evalue": "ignored",
          "traceback": [
            "\u001b[0;31m---------------------------------------------------------------------------\u001b[0m",
            "\u001b[0;31mNameError\u001b[0m                                 Traceback (most recent call last)",
            "\u001b[0;32m<ipython-input-1-b1aea11de4d4>\u001b[0m in \u001b[0;36m<module>\u001b[0;34m()\u001b[0m\n\u001b[1;32m      1\u001b[0m \u001b[0;31m# Split between train and test\u001b[0m\u001b[0;34m\u001b[0m\u001b[0;34m\u001b[0m\u001b[0;34m\u001b[0m\u001b[0m\n\u001b[0;32m----> 2\u001b[0;31m X_train, X_test, y_train, y_test = train_test_split(aug_specgram\n\u001b[0m\u001b[1;32m      3\u001b[0m                                                     \u001b[0;34m,\u001b[0m \u001b[0mref\u001b[0m\u001b[0;34m.\u001b[0m\u001b[0mlabels\u001b[0m\u001b[0;34m\u001b[0m\u001b[0;34m\u001b[0m\u001b[0m\n\u001b[1;32m      4\u001b[0m                                                     \u001b[0;34m,\u001b[0m \u001b[0mtest_size\u001b[0m\u001b[0;34m=\u001b[0m\u001b[0;36m0.25\u001b[0m\u001b[0;34m\u001b[0m\u001b[0;34m\u001b[0m\u001b[0m\n\u001b[1;32m      5\u001b[0m                                                     \u001b[0;34m,\u001b[0m \u001b[0mshuffle\u001b[0m\u001b[0;34m=\u001b[0m\u001b[0;32mTrue\u001b[0m\u001b[0;34m\u001b[0m\u001b[0;34m\u001b[0m\u001b[0m\n",
            "\u001b[0;31mNameError\u001b[0m: name 'train_test_split' is not defined"
          ]
        }
      ]
    },
    {
      "cell_type": "code",
      "metadata": {
        "id": "7ko2bsDbK-KS",
        "outputId": "2e6f7f9c-68a1-4d6e-8671-e142a32fb9ff",
        "colab": {
          "base_uri": "https://localhost:8080/",
          "height": 817
        }
      },
      "source": [
        "results = get_results(model_history,model,X_test,y_test, ref.labels.unique())\n",
        "results.create_plot(model_history)\n",
        "results.create_results(model)\n",
        "results.confusion_results(X_test, y_test, ref.labels.unique(), model)"
      ],
      "execution_count": null,
      "outputs": [
        {
          "output_type": "display_data",
          "data": {
            "image/png": "[encoded data removed]",
            "text/plain": [
              "<Figure size 432x288 with 1 Axes>"
            ]
          },
          "metadata": {
            "tags": [],
            "needs_background": "light"
          }
        },
        {
          "output_type": "stream",
          "text": [
            "accuracy: 63.99%\n"
          ],
          "name": "stdout"
        },
        {
          "output_type": "display_data",
          "data": {
            "image/png": "[encoded data removed]",
            "text/plain": [
              "<Figure size 720x504 with 2 Axes>"
            ]
          },
          "metadata": {
            "tags": [],
            "needs_background": "light"
          }
        }
      ]
    },
    {
      "cell_type": "code",
      "metadata": {
        "id": "UTnrK9YVz4tW",
        "outputId": "4e452c62-a8f4-4c30-f8e7-783da361d005",
        "colab": {
          "base_uri": "https://localhost:8080/",
          "height": 197
        }
      },
      "source": [
        "classes = modidf.actualvalues.unique()\n",
        "classes.sort()    \n",
        "print(classification_report(modidf.actualvalues, modidf.predictedvalues, target_names=classes))"
      ],
      "execution_count": null,
      "outputs": [
        {
          "output_type": "error",
          "ename": "NameError",
          "evalue": "ignored",
          "traceback": [
            "\u001b[0;31m---------------------------------------------------------------------------\u001b[0m",
            "\u001b[0;31mNameError\u001b[0m                                 Traceback (most recent call last)",
            "\u001b[0;32m<ipython-input-34-2fbfbcf6fea0>\u001b[0m in \u001b[0;36m<module>\u001b[0;34m()\u001b[0m\n\u001b[0;32m----> 1\u001b[0;31m \u001b[0mclasses\u001b[0m \u001b[0;34m=\u001b[0m \u001b[0mmodidf\u001b[0m\u001b[0;34m.\u001b[0m\u001b[0mactualvalues\u001b[0m\u001b[0;34m.\u001b[0m\u001b[0munique\u001b[0m\u001b[0;34m(\u001b[0m\u001b[0;34m)\u001b[0m\u001b[0;34m\u001b[0m\u001b[0;34m\u001b[0m\u001b[0m\n\u001b[0m\u001b[1;32m      2\u001b[0m \u001b[0mclasses\u001b[0m\u001b[0;34m.\u001b[0m\u001b[0msort\u001b[0m\u001b[0;34m(\u001b[0m\u001b[0;34m)\u001b[0m\u001b[0;34m\u001b[0m\u001b[0;34m\u001b[0m\u001b[0m\n\u001b[1;32m      3\u001b[0m \u001b[0mprint\u001b[0m\u001b[0;34m(\u001b[0m\u001b[0mclassification_report\u001b[0m\u001b[0;34m(\u001b[0m\u001b[0mmodidf\u001b[0m\u001b[0;34m.\u001b[0m\u001b[0mactualvalues\u001b[0m\u001b[0;34m,\u001b[0m \u001b[0mmodidf\u001b[0m\u001b[0;34m.\u001b[0m\u001b[0mpredictedvalues\u001b[0m\u001b[0;34m,\u001b[0m \u001b[0mtarget_names\u001b[0m\u001b[0;34m=\u001b[0m\u001b[0mclasses\u001b[0m\u001b[0;34m)\u001b[0m\u001b[0;34m)\u001b[0m\u001b[0;34m\u001b[0m\u001b[0;34m\u001b[0m\u001b[0m\n",
            "\u001b[0;31mNameError\u001b[0m: name 'modidf' is not defined"
          ]
        }
      ]
    },
    {
      "cell_type": "code",
      "metadata": {
        "id": "rAR_HpOj0PQk",
        "outputId": "bc1a8aac-0ed8-4b0d-aaa5-d70bee7c5cd3",
        "colab": {
          "base_uri": "https://localhost:8080/",
          "height": 51
        }
      },
      "source": [
        "preds = model.predict(X_test, \n",
        "                         batch_size=16, \n",
        "                         verbose=1)\n",
        "\n",
        "preds=preds.argmax(axis=1)\n",
        "preds"
      ],
      "execution_count": null,
      "outputs": [
        {
          "output_type": "stream",
          "text": [
            "3041/3041 [==============================] - 38s 12ms/step\n"
          ],
          "name": "stdout"
        },
        {
          "output_type": "execute_result",
          "data": {
            "text/plain": [
              "array([10,  3, 12, ...,  8,  4,  2])"
            ]
          },
          "metadata": {
            "tags": []
          },
          "execution_count": 36
        }
      ]
    },
    {
      "cell_type": "code",
      "metadata": {
        "id": "7z8Dp_4S0b7r",
        "outputId": "bd75ac2b-79bb-4e0f-ed30-36550cf39dbd",
        "colab": {
          "base_uri": "https://localhost:8080/",
          "height": 359
        }
      },
      "source": [
        "  # predictions \n",
        "  preds = preds.astype(int).flatten()\n",
        "  preds = (lb.inverse_transform((preds)))\n",
        "  preds = pd.DataFrame({'predictedvalues': preds})\n",
        "\n",
        "  # Actual labels\n",
        "  actual=y_test.argmax(axis=1)\n",
        "  actual = actual.astype(int).flatten()\n",
        "  actual = (lb.inverse_transform((actual)))\n",
        "  actual = pd.DataFrame({'actualvalues': actual})\n",
        "\n",
        "  # Lets combined both of them into a single dataframe\n",
        "  finaldf = actual.join(preds)\n",
        "  finaldf[170:180]"
      ],
      "execution_count": null,
      "outputs": [
        {
          "output_type": "execute_result",
          "data": {
            "text/html": [
              "<div>\n",
              "<style scoped>\n",
              "    .dataframe tbody tr th:only-of-type {\n",
              "        vertical-align: middle;\n",
              "    }\n",
              "\n",
              "    .dataframe tbody tr th {\n",
              "        vertical-align: top;\n",
              "    }\n",
              "\n",
              "    .dataframe thead th {\n",
              "        text-align: right;\n",
              "    }\n",
              "</style>\n",
              "<table border=\"1\" class=\"dataframe\">\n",
              "  <thead>\n",
              "    <tr style=\"text-align: right;\">\n",
              "      <th></th>\n",
              "      <th>actualvalues</th>\n",
              "      <th>predictedvalues</th>\n",
              "    </tr>\n",
              "  </thead>\n",
              "  <tbody>\n",
              "    <tr>\n",
              "      <th>170</th>\n",
              "      <td>female_happy</td>\n",
              "      <td>male_happy</td>\n",
              "    </tr>\n",
              "    <tr>\n",
              "      <th>171</th>\n",
              "      <td>female_neutral</td>\n",
              "      <td>female_neutral</td>\n",
              "    </tr>\n",
              "    <tr>\n",
              "      <th>172</th>\n",
              "      <td>female_fear</td>\n",
              "      <td>female_disgust</td>\n",
              "    </tr>\n",
              "    <tr>\n",
              "      <th>173</th>\n",
              "      <td>female_disgust</td>\n",
              "      <td>female_disgust</td>\n",
              "    </tr>\n",
              "    <tr>\n",
              "      <th>174</th>\n",
              "      <td>male_disgust</td>\n",
              "      <td>male_fear</td>\n",
              "    </tr>\n",
              "    <tr>\n",
              "      <th>175</th>\n",
              "      <td>male_disgust</td>\n",
              "      <td>male_neutral</td>\n",
              "    </tr>\n",
              "    <tr>\n",
              "      <th>176</th>\n",
              "      <td>male_neutral</td>\n",
              "      <td>male_neutral</td>\n",
              "    </tr>\n",
              "    <tr>\n",
              "      <th>177</th>\n",
              "      <td>female_sad</td>\n",
              "      <td>female_sad</td>\n",
              "    </tr>\n",
              "    <tr>\n",
              "      <th>178</th>\n",
              "      <td>male_happy</td>\n",
              "      <td>male_angry</td>\n",
              "    </tr>\n",
              "    <tr>\n",
              "      <th>179</th>\n",
              "      <td>female_neutral</td>\n",
              "      <td>female_neutral</td>\n",
              "    </tr>\n",
              "  </tbody>\n",
              "</table>\n",
              "</div>"
            ],
            "text/plain": [
              "       actualvalues predictedvalues\n",
              "170    female_happy      male_happy\n",
              "171  female_neutral  female_neutral\n",
              "172     female_fear  female_disgust\n",
              "173  female_disgust  female_disgust\n",
              "174    male_disgust       male_fear\n",
              "175    male_disgust    male_neutral\n",
              "176    male_neutral    male_neutral\n",
              "177      female_sad      female_sad\n",
              "178      male_happy      male_angry\n",
              "179  female_neutral  female_neutral"
            ]
          },
          "metadata": {
            "tags": []
          },
          "execution_count": 37
        }
      ]
    },
    {
      "cell_type": "code",
      "metadata": {
        "id": "2SVqmMHW0cJ_",
        "outputId": "04771ef7-29af-45a4-d642-d9eece18861a",
        "colab": {
          "base_uri": "https://localhost:8080/",
          "height": 514
        }
      },
      "source": [
        "# Write out the predictions to disk\n",
        "finaldf.to_csv('Predictions.csv', index=False)\n",
        "finaldf.groupby('predictedvalues').count()"
      ],
      "execution_count": null,
      "outputs": [
        {
          "output_type": "execute_result",
          "data": {
            "text/html": [
              "<div>\n",
              "<style scoped>\n",
              "    .dataframe tbody tr th:only-of-type {\n",
              "        vertical-align: middle;\n",
              "    }\n",
              "\n",
              "    .dataframe tbody tr th {\n",
              "        vertical-align: top;\n",
              "    }\n",
              "\n",
              "    .dataframe thead th {\n",
              "        text-align: right;\n",
              "    }\n",
              "</style>\n",
              "<table border=\"1\" class=\"dataframe\">\n",
              "  <thead>\n",
              "    <tr style=\"text-align: right;\">\n",
              "      <th></th>\n",
              "      <th>actualvalues</th>\n",
              "    </tr>\n",
              "    <tr>\n",
              "      <th>predictedvalues</th>\n",
              "      <th></th>\n",
              "    </tr>\n",
              "  </thead>\n",
              "  <tbody>\n",
              "    <tr>\n",
              "      <th>female_angry</th>\n",
              "      <td>308</td>\n",
              "    </tr>\n",
              "    <tr>\n",
              "      <th>female_disgust</th>\n",
              "      <td>322</td>\n",
              "    </tr>\n",
              "    <tr>\n",
              "      <th>female_fear</th>\n",
              "      <td>156</td>\n",
              "    </tr>\n",
              "    <tr>\n",
              "      <th>female_happy</th>\n",
              "      <td>333</td>\n",
              "    </tr>\n",
              "    <tr>\n",
              "      <th>female_neutral</th>\n",
              "      <td>233</td>\n",
              "    </tr>\n",
              "    <tr>\n",
              "      <th>female_sad</th>\n",
              "      <td>185</td>\n",
              "    </tr>\n",
              "    <tr>\n",
              "      <th>female_surprise</th>\n",
              "      <td>139</td>\n",
              "    </tr>\n",
              "    <tr>\n",
              "      <th>male_angry</th>\n",
              "      <td>238</td>\n",
              "    </tr>\n",
              "    <tr>\n",
              "      <th>male_disgust</th>\n",
              "      <td>246</td>\n",
              "    </tr>\n",
              "    <tr>\n",
              "      <th>male_fear</th>\n",
              "      <td>100</td>\n",
              "    </tr>\n",
              "    <tr>\n",
              "      <th>male_happy</th>\n",
              "      <td>189</td>\n",
              "    </tr>\n",
              "    <tr>\n",
              "      <th>male_neutral</th>\n",
              "      <td>302</td>\n",
              "    </tr>\n",
              "    <tr>\n",
              "      <th>male_sad</th>\n",
              "      <td>238</td>\n",
              "    </tr>\n",
              "    <tr>\n",
              "      <th>male_surprise</th>\n",
              "      <td>52</td>\n",
              "    </tr>\n",
              "  </tbody>\n",
              "</table>\n",
              "</div>"
            ],
            "text/plain": [
              "                 actualvalues\n",
              "predictedvalues              \n",
              "female_angry              308\n",
              "female_disgust            322\n",
              "female_fear               156\n",
              "female_happy              333\n",
              "female_neutral            233\n",
              "female_sad                185\n",
              "female_surprise           139\n",
              "male_angry                238\n",
              "male_disgust              246\n",
              "male_fear                 100\n",
              "male_happy                189\n",
              "male_neutral              302\n",
              "male_sad                  238\n",
              "male_surprise              52"
            ]
          },
          "metadata": {
            "tags": []
          },
          "execution_count": 38
        }
      ]
    },
    {
      "cell_type": "code",
      "metadata": {
        "id": "jGCSkqSt0j1u",
        "outputId": "915135a6-e5fb-42d8-ed49-eeac1e77ee1c",
        "colab": {
          "base_uri": "https://localhost:8080/",
          "height": 539
        }
      },
      "source": [
        "# Get the predictions file \n",
        "finaldf = pd.read_csv(\"Predictions.csv\")\n",
        "classes = finaldf.actualvalues.unique()\n",
        "classes.sort()    \n",
        "\n",
        "# Confusion matrix \n",
        "c = confusion_matrix(finaldf.actualvalues, finaldf.predictedvalues)\n",
        "print(accuracy_score(finaldf.actualvalues, finaldf.predictedvalues))\n",
        "print_confusion_matrix(c, class_names = classes)"
      ],
      "execution_count": null,
      "outputs": [
        {
          "output_type": "stream",
          "text": [
            "0.6399210785925682\n"
          ],
          "name": "stdout"
        },
        {
          "output_type": "display_data",
          "data": {
            "image/png": "[encoded data removed]",
            "text/plain": [
              "<Figure size 720x504 with 2 Axes>"
            ]
          },
          "metadata": {
            "tags": [],
            "needs_background": "light"
          }
        }
      ]
    },
    {
      "cell_type": "code",
      "metadata": {
        "id": "S48tM8iC0j7H",
        "outputId": "00d91ff1-c826-4f6e-9bc9-7804052aa0d7",
        "colab": {
          "base_uri": "https://localhost:8080/",
          "height": 374
        }
      },
      "source": [
        "# Classification report \n",
        "classes = finaldf.actualvalues.unique()\n",
        "classes.sort()    \n",
        "print(classification_report(finaldf.actualvalues, finaldf.predictedvalues, target_names=classes))"
      ],
      "execution_count": null,
      "outputs": [
        {
          "output_type": "stream",
          "text": [
            "                 precision    recall  f1-score   support\n",
            "\n",
            "   female_angry       0.77      0.84      0.80       282\n",
            " female_disgust       0.66      0.82      0.73       260\n",
            "    female_fear       0.82      0.52      0.64       246\n",
            "   female_happy       0.66      0.77      0.71       283\n",
            " female_neutral       0.79      0.71      0.75       258\n",
            "     female_sad       0.85      0.55      0.67       284\n",
            "female_surprise       0.87      0.99      0.93       122\n",
            "     male_angry       0.66      0.73      0.69       214\n",
            "   male_disgust       0.47      0.52      0.50       222\n",
            "      male_fear       0.59      0.29      0.39       206\n",
            "     male_happy       0.44      0.38      0.41       218\n",
            "   male_neutral       0.48      0.72      0.58       203\n",
            "       male_sad       0.42      0.51      0.46       197\n",
            "  male_surprise       0.52      0.59      0.55        46\n",
            "\n",
            "       accuracy                           0.64      3041\n",
            "      macro avg       0.64      0.64      0.63      3041\n",
            "   weighted avg       0.66      0.64      0.63      3041\n",
            "\n"
          ],
          "name": "stdout"
        }
      ]
    },
    {
      "cell_type": "code",
      "metadata": {
        "id": "qMIkafDY0j4c"
      },
      "source": [
        "# Importing required libraries \n",
        "# Keras\n",
        "import keras\n",
        "from keras import regularizers\n",
        "from keras.preprocessing import sequence\n",
        "from keras.preprocessing.text import Tokenizer\n",
        "from keras.preprocessing.sequence import pad_sequences\n",
        "from keras.models import Sequential, Model, model_from_json\n",
        "from keras.layers import Dense, Embedding, LSTM\n",
        "from keras.layers import Input, Flatten, Dropout, Activation, BatchNormalization\n",
        "from keras.layers import Conv1D, MaxPooling1D, AveragePooling1D\n",
        "from keras.utils import np_utils, to_categorical\n",
        "from keras.callbacks import ModelCheckpoint\n",
        "\n",
        "# sklearn\n",
        "from sklearn.metrics import confusion_matrix, accuracy_score, classification_report\n",
        "from sklearn.model_selection import train_test_split\n",
        "from sklearn.preprocessing import LabelEncoder\n",
        "\n",
        "# Other  \n",
        "import librosa\n",
        "import librosa.display\n",
        "import json\n",
        "import numpy as np\n",
        "import matplotlib.pyplot as plt\n",
        "import tensorflow as tf\n",
        "from matplotlib.pyplot import specgram\n",
        "import pandas as pd\n",
        "import seaborn as sns\n",
        "import glob \n",
        "import os\n",
        "from tqdm import tqdm\n",
        "import pickle\n",
        "import IPython.display as ipd  "
      ],
      "execution_count": null,
      "outputs": []
    },
    {
      "cell_type": "code",
      "metadata": {
        "id": "ELDvpBRc0j0K",
        "outputId": "88acf7a5-0d44-4bfc-977c-21ceff3fbdb1",
        "colab": {
          "base_uri": "https://localhost:8080/",
          "height": 494
        }
      },
      "source": [
        "modidf = finaldf\n",
        "modidf['actualvalues'] = finaldf.actualvalues.replace({'female_angry':'female'\n",
        "                                       , 'female_disgust':'female'\n",
        "                                       , 'female_fear':'female'\n",
        "                                       , 'female_happy':'female'\n",
        "                                       , 'female_sad':'female'\n",
        "                                       , 'female_surprise':'female'\n",
        "                                       , 'female_neutral':'female'\n",
        "                                       , 'male_angry':'male'\n",
        "                                       , 'male_fear':'male'\n",
        "                                       , 'male_happy':'male'\n",
        "                                       , 'male_sad':'male'\n",
        "                                       , 'male_surprise':'male'\n",
        "                                       , 'male_neutral':'male'\n",
        "                                       , 'male_disgust':'male'\n",
        "                                      })\n",
        "\n",
        "modidf['predictedvalues'] = finaldf.predictedvalues.replace({'female_angry':'female'\n",
        "                                       , 'female_disgust':'female'\n",
        "                                       , 'female_fear':'female'\n",
        "                                       , 'female_happy':'female'\n",
        "                                       , 'female_sad':'female'\n",
        "                                       , 'female_surprise':'female'\n",
        "                                       , 'female_neutral':'female'\n",
        "                                       , 'male_angry':'male'\n",
        "                                       , 'male_fear':'male'\n",
        "                                       , 'male_happy':'male'\n",
        "                                       , 'male_sad':'male'\n",
        "                                       , 'male_surprise':'male'\n",
        "                                       , 'male_neutral':'male'\n",
        "                                       , 'male_disgust':'male'\n",
        "                                      })\n",
        "\n",
        "classes = modidf.actualvalues.unique()  \n",
        "classes.sort() \n",
        "\n",
        "# Confusion matrix \n",
        "c = confusion_matrix(modidf.actualvalues, modidf.predictedvalues)\n",
        "print(accuracy_score(modidf.actualvalues, modidf.predictedvalues))\n",
        "print_confusion_matrix(c, class_names = classes)"
      ],
      "execution_count": null,
      "outputs": [
        {
          "output_type": "stream",
          "text": [
            "0.973364024991779\n"
          ],
          "name": "stdout"
        },
        {
          "output_type": "display_data",
          "data": {
            "image/png": "[encoded data removed]",
            "text/plain": [
              "<Figure size 720x504 with 2 Axes>"
            ]
          },
          "metadata": {
            "tags": [],
            "needs_background": "light"
          }
        }
      ]
    },
    {
      "cell_type": "code",
      "metadata": {
        "id": "nYw0WK4k1QjM",
        "outputId": "2d165add-75ab-4444-9602-9cbde43deec3",
        "colab": {
          "base_uri": "https://localhost:8080/",
          "height": 170
        }
      },
      "source": [
        "# Classification report \n",
        "classes = modidf.actualvalues.unique()\n",
        "classes.sort()    \n",
        "print(classification_report(modidf.actualvalues, modidf.predictedvalues, target_names=classes))"
      ],
      "execution_count": null,
      "outputs": [
        {
          "output_type": "stream",
          "text": [
            "              precision    recall  f1-score   support\n",
            "\n",
            "      female       0.99      0.96      0.98      1735\n",
            "        male       0.95      0.99      0.97      1306\n",
            "\n",
            "    accuracy                           0.97      3041\n",
            "   macro avg       0.97      0.98      0.97      3041\n",
            "weighted avg       0.97      0.97      0.97      3041\n",
            "\n"
          ],
          "name": "stdout"
        }
      ]
    },
    {
      "cell_type": "code",
      "metadata": {
        "id": "mgFU8oeb1Qv8",
        "outputId": "82445f0f-235e-4dfc-aa23-0230447b7c37",
        "colab": {
          "base_uri": "https://localhost:8080/",
          "height": 502
        }
      },
      "source": [
        "modidf = pd.read_csv(\"Predictions.csv\")\n",
        "modidf['actualvalues'] = modidf.actualvalues.replace({'female_angry':'angry'\n",
        "                                       , 'female_disgust':'disgust'\n",
        "                                       , 'female_fear':'fear'\n",
        "                                       , 'female_happy':'happy'\n",
        "                                       , 'female_sad':'sad'\n",
        "                                       , 'female_surprise':'surprise'\n",
        "                                       , 'female_neutral':'neutral'\n",
        "                                       , 'male_angry':'angry'\n",
        "                                       , 'male_fear':'fear'\n",
        "                                       , 'male_happy':'happy'\n",
        "                                       , 'male_sad':'sad'\n",
        "                                       , 'male_surprise':'surprise'\n",
        "                                       , 'male_neutral':'neutral'\n",
        "                                       , 'male_disgust':'disgust'\n",
        "                                      })\n",
        "\n",
        "modidf['predictedvalues'] = modidf.predictedvalues.replace({'female_angry':'angry'\n",
        "                                       , 'female_disgust':'disgust'\n",
        "                                       , 'female_fear':'fear'\n",
        "                                       , 'female_happy':'happy'\n",
        "                                       , 'female_sad':'sad'\n",
        "                                       , 'female_surprise':'surprise'\n",
        "                                       , 'female_neutral':'neutral'\n",
        "                                       , 'male_angry':'angry'\n",
        "                                       , 'male_fear':'fear'\n",
        "                                       , 'male_happy':'happy'\n",
        "                                       , 'male_sad':'sad'\n",
        "                                       , 'male_surprise':'surprise'\n",
        "                                       , 'male_neutral':'neutral'\n",
        "                                       , 'male_disgust':'disgust'\n",
        "                                      })\n",
        "\n",
        "classes = modidf.actualvalues.unique() \n",
        "classes.sort() \n",
        "\n",
        "# Confusion matrix \n",
        "c = confusion_matrix(modidf.actualvalues, modidf.predictedvalues)\n",
        "print(accuracy_score(modidf.actualvalues, modidf.predictedvalues))\n",
        "print_confusion_matrix(c, class_names = classes)"
      ],
      "execution_count": null,
      "outputs": [
        {
          "output_type": "stream",
          "text": [
            "0.6557053600789214\n"
          ],
          "name": "stdout"
        },
        {
          "output_type": "display_data",
          "data": {
            "image/png": "[encoded data removed]",
            "text/plain": [
              "<Figure size 720x504 with 2 Axes>"
            ]
          },
          "metadata": {
            "tags": [],
            "needs_background": "light"
          }
        }
      ]
    },
    {
      "cell_type": "code",
      "metadata": {
        "id": "ZGH6jtsT1j8Z",
        "outputId": "ceaaa8df-2d12-460c-f1c6-437099704838",
        "colab": {
          "base_uri": "https://localhost:8080/",
          "height": 255
        }
      },
      "source": [
        "# Classification report \n",
        "classes = modidf.actualvalues.unique()\n",
        "classes.sort()    \n",
        "print(classification_report(modidf.actualvalues, modidf.predictedvalues, target_names=classes))"
      ],
      "execution_count": null,
      "outputs": [
        {
          "output_type": "stream",
          "text": [
            "              precision    recall  f1-score   support\n",
            "\n",
            "       angry       0.74      0.81      0.77       496\n",
            "     disgust       0.60      0.71      0.65       482\n",
            "        fear       0.76      0.43      0.55       452\n",
            "       happy       0.59      0.61      0.60       501\n",
            "     neutral       0.62      0.72      0.67       461\n",
            "         sad       0.64      0.56      0.60       481\n",
            "    surprise       0.77      0.88      0.82       168\n",
            "\n",
            "    accuracy                           0.66      3041\n",
            "   macro avg       0.67      0.67      0.67      3041\n",
            "weighted avg       0.66      0.66      0.65      3041\n",
            "\n"
          ],
          "name": "stdout"
        }
      ]
    },
    {
      "cell_type": "code",
      "metadata": {
        "id": "srgb2RWsLMiA",
        "outputId": "d87442f6-c3e6-4bfa-b4cf-b63cfdaf07f6",
        "colab": {
          "base_uri": "https://localhost:8080/",
          "height": 50
        }
      },
      "source": [
        "score = model.evaluate(X_test, y_test, verbose=1)\n",
        "score"
      ],
      "execution_count": null,
      "outputs": [
        {
          "output_type": "stream",
          "text": [
            "3041/3041 [==============================] - 39s 13ms/step\n"
          ],
          "name": "stdout"
        },
        {
          "output_type": "execute_result",
          "data": {
            "text/plain": [
              "[1.2598399596165686, 0.5475172400474548]"
            ]
          },
          "metadata": {
            "tags": []
          },
          "execution_count": 27
        }
      ]
    },
    {
      "cell_type": "code",
      "metadata": {
        "id": "eNm_jjDoLmbF"
      },
      "source": [
        "# model.save('[2DCNNAlldata]M.h5')\n",
        "# model.save_weights('[2DCNNAlldata]W.h5')\n",
        "# model_name = 'Emotion_ModelLSTM.h5'\n",
        "# save_dir = os.path.join(os.getcwd(), 'saved_models')\n",
        "\n",
        "# if not os.path.isdir(save_dir):\n",
        "#     os.makedirs(save_dir)\n",
        "# model_path = os.path.join(save_dir, model_name)\n",
        "# model.save(model_path)\n",
        "# print('Save model and weights at %s ' % model_path)\n",
        "\n",
        "# # Save the model to disk\n",
        "# model_json = model.to_json()\n",
        "# with open(\"model_json.json\", \"w\") as json_file:\n",
        "#     json_file.write(model_json)"
      ],
      "execution_count": null,
      "outputs": []
    },
    {
      "cell_type": "code",
      "metadata": {
        "id": "CU1qpq4qLmi8"
      },
      "source": [
        "# # Split between train and test \n",
        "# X_train, X_test, y_train, y_test = train_test_split(aug_specgram\n",
        "#                                                     , ref.labels\n",
        "#                                                     , test_size=0.25\n",
        "#                                                     , shuffle=True\n",
        "#                                                     , random_state=42\n",
        "#                                                    )\n",
        "\n",
        "# X_train = X_train.reshape(X_train.shape[0], X_train.shape[1] , X_train.shape[2], X_train.shape[3], 1)\n",
        "# X_test = X_test.reshape(X_test.shape[0], X_test.shape[1] , X_test.shape[2], X_test.shape[3], 1)"
      ],
      "execution_count": null,
      "outputs": []
    },
    {
      "cell_type": "code",
      "metadata": {
        "trusted": true,
        "id": "CdeMK3Zz4tRX"
      },
      "source": [
        ""
      ],
      "execution_count": null,
      "outputs": []
    },
    {
      "cell_type": "code",
      "metadata": {
        "id": "FGiwBEz7K-Mx"
      },
      "source": [
        "# import os\n",
        "# from glob import glob\n",
        "# import pickle\n",
        "# import itertools\n",
        "# import numpy as np\n",
        "# from scipy.stats import zscore\n",
        "# from sklearn.model_selection import train_test_split\n",
        "\n",
        "# ### Graph imports ###\n",
        "# import matplotlib.pyplot as plt\n",
        "# from PIL import Image\n",
        "# import pandas as pd\n",
        "\n",
        "# ### Audio import ###\n",
        "# import librosa\n",
        "# import IPython\n",
        "# from IPython.display import Audio\n",
        "\n",
        "# ### Plot imports ###\n",
        "# from IPython.display import Image\n",
        "# import matplotlib.pyplot as plt\n",
        "\n",
        "# ### Time Distributed ConvNet imports ###\n",
        "# import tensorflow as tf\n",
        "# from tensorflow.keras.models import Sequential, Model\n",
        "# from tensorflow.keras.layers import Input, Dense, Dropout, Activation, TimeDistributed, concatenate\n",
        "# from tensorflow.keras.layers import Conv2D, MaxPooling2D, AveragePooling2D, BatchNormalization, LeakyReLU, Flatten\n",
        "# from tensorflow.keras.layers import LSTM\n",
        "# from tensorflow.keras.optimizers import Adam, SGD\n",
        "# from tensorflow.keras.callbacks import EarlyStopping, ModelCheckpoint, ReduceLROnPlateau\n",
        "# from tensorflow.keras import backend as K\n",
        "# from keras.utils import np_utils\n",
        "# from keras.utils import plot_model\n",
        "# from sklearn.preprocessing import LabelEncoder\n",
        "\n",
        "# # Split between train and test \n",
        "# X_train, X_test, y_train, y_test = train_test_split(aug_specgram\n",
        "#                                                     , ref.labels\n",
        "#                                                     , test_size=0.25\n",
        "#                                                     , shuffle=True\n",
        "#                                                     , random_state=42\n",
        "#                                                    )\n",
        "\n",
        "# # one hot encode the target \n",
        "# lb = LabelEncoder()\n",
        "# y_train = np_utils.to_categorical(lb.fit_transform(y_train))\n",
        "# y_test = np_utils.to_categorical(lb.fit_transform(y_test))\n",
        "\n",
        "\n",
        "# input_y = Input(shape=(X_train.shape[1:]), name='Input_MELSPECT')\n",
        "# #input_y = Input(shape=(60,216,1), name='Input_MELSPECT')\n",
        "# ## First LFLB (local feature learning block)\n",
        "# y = TimeDistributed(Conv2D(64, kernel_size=(3, 3), strides=(1, 1), padding='same'), name='Conv_1_MELSPECT')(input_y)\n",
        "# y = TimeDistributed(BatchNormalization(), name='BatchNorm_1_MELSPECT')(y)\n",
        "# y = TimeDistributed(Activation('elu'), name='Activ_1_MELSPECT')(y)\n",
        "# y = TimeDistributed(MaxPooling2D(pool_size=(2, 2), strides=(2, 2), padding='same'), name='MaxPool_1_MELSPECT')(y)\n",
        "# y = TimeDistributed(Dropout(0.2), name='Drop_1_MELSPECT')(y)     \n",
        "\n",
        "# ## Second LFLB (local feature learning block)\n",
        "# y = TimeDistributed(Conv2D(64, kernel_size=(3, 3), strides=(1, 1), padding='same'), name='Conv_2_MELSPECT')(y)\n",
        "# y = TimeDistributed(BatchNormalization(), name='BatchNorm_2_MELSPECT')(y)\n",
        "# y = TimeDistributed(Activation('elu'), name='Activ_2_MELSPECT')(y)\n",
        "# y = TimeDistributed(MaxPooling2D(pool_size=(4, 4), strides=(4, 4), padding='same'), name='MaxPool_2_MELSPECT')(y)\n",
        "# y = TimeDistributed(Dropout(0.2), name='Drop_2_MELSPECT')(y)\n",
        "\n",
        "# ## Second LFLB (local feature learning block)\n",
        "# y = TimeDistributed(Conv2D(128, kernel_size=(3, 3), strides=(1, 1), padding='same'), name='Conv_3_MELSPECT')(y)\n",
        "# y = TimeDistributed(BatchNormalization(), name='BatchNorm_3_MELSPECT')(y)\n",
        "# y = TimeDistributed(Activation('elu'), name='Activ_3_MELSPECT')(y)\n",
        "# y = TimeDistributed(MaxPooling2D(pool_size=(4, 4), strides=(4, 4), padding='same'), name='MaxPool_3_MELSPECT')(y)\n",
        "# y = TimeDistributed(Dropout(0.2), name='Drop_3_MELSPECT')(y)\n",
        "\n",
        "# ## Second LFLB (local feature learning block)\n",
        "# y = TimeDistributed(Conv2D(128, kernel_size=(3, 3), strides=(1, 1), padding='same'), name='Conv_4_MELSPECT')(y)\n",
        "# y = TimeDistributed(BatchNormalization(), name='BatchNorm_4_MELSPECT')(y)\n",
        "# y = TimeDistributed(Activation('elu'), name='Activ_4_MELSPECT')(y)\n",
        "# y = TimeDistributed(MaxPooling2D(pool_size=(4, 4), strides=(4, 4), padding='same'), name='MaxPool_4_MELSPECT')(y)\n",
        "# y = TimeDistributed(Dropout(0.2), name='Drop_4_MELSPECT')(y)  \n",
        "\n",
        "# ## Flat\n",
        "# y = TimeDistributed(Flatten(), name='Flat_MELSPECT')(y)                      \n",
        "                               \n",
        "# # Apply 2 LSTM layer and one FC\n",
        "# y = LSTM(256, return_sequences=False, dropout=0.2, name='LSTM_1')(y)\n",
        "# y = Dense(14, activation='softmax', name='FC')(y)\n",
        "\n",
        "# # Build final model\n",
        "# model = Model(inputs=input_y, outputs=y)\n"
      ],
      "execution_count": null,
      "outputs": []
    },
    {
      "cell_type": "code",
      "metadata": {
        "id": "FJVD4XhPK34t"
      },
      "source": [
        "# model.compile(optimizer=SGD(lr=0.01, decay=1e-6, momentum=0.8), loss='categorical_crossentropy', metrics=['accuracy'])\n",
        "\n",
        "# model_history = model.fit(X_train, y_train, validation_data=(X_test, y_test), \n",
        "#                     batch_size=16, verbose = 2, epochs=20)"
      ],
      "execution_count": null,
      "outputs": []
    },
    {
      "cell_type": "code",
      "metadata": {
        "id": "ibdVtdTTK-7f"
      },
      "source": [
        "# score = model.evaluate(X_test, y_test, verbose=1)\n",
        "# score"
      ],
      "execution_count": null,
      "outputs": []
    },
    {
      "cell_type": "code",
      "metadata": {
        "id": "fSj60J9RK-5l"
      },
      "source": [
        ""
      ],
      "execution_count": null,
      "outputs": []
    },
    {
      "cell_type": "code",
      "metadata": {
        "id": "V2BtFsJFK32a"
      },
      "source": [
        ""
      ],
      "execution_count": null,
      "outputs": []
    }
  ]
}